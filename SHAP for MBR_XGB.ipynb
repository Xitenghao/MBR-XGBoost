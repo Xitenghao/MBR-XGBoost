{
 "cells": [
  {
   "cell_type": "code",
   "execution_count": 1,
   "id": "47542c47-949b-4849-86e9-44b26cbd5711",
   "metadata": {},
   "outputs": [],
   "source": [
    "from functions_new import *\n",
    "from skfda.exploratory.depth import IntegratedDepth, ModifiedBandDepth\n",
    "from skfda.preprocessing.missing import MissingValuesInterpolation"
   ]
  },
  {
   "cell_type": "code",
   "execution_count": null,
   "id": "52e083e1-a630-4c3c-807d-f3731a290b2a",
   "metadata": {},
   "outputs": [],
   "source": [
    "data_tpts, data_x, data_y = data_deal_1('Sethylene%')\n",
    "data_y = data_y/100\n",
    "print(data_x)\n",
    "data_x.columns = ['Mod', 'AS','A/T', r'$\\text{FD}_{\\text{Si}}$', 'LRS', 'MDa', 'MDb', 'MDc', 'Mdi', 'CD', 'CS', 'RT', 'WHSV']"
   ]
  },
  {
   "cell_type": "markdown",
   "id": "35de03b2-791d-4217-bbaf-3c3fb49ea0f8",
   "metadata": {},
   "source": [
    "## Define MBR_XGB model"
   ]
  },
  {
   "cell_type": "code",
   "execution_count": 40,
   "id": "08f7e309-dca7-4786-9286-4c4d3439cf40",
   "metadata": {},
   "outputs": [],
   "source": [
    "class MBR_XGB:\n",
    "    def __init__(self, data_tpts, n_basis, order):\n",
    "        self.data_tpts = data_tpts\n",
    "        self.n_basis = n_basis\n",
    "        self.order = order\n",
    "        self.model = None\n",
    "    def fit(self, data_x, data_y, model_params,\n",
    "            num_rounds=200, loss_type=1,\n",
    "            silent=False):\n",
    "        data_tpts = self.data_tpts\n",
    "        n_basis = self.n_basis\n",
    "        order = self.order\n",
    "        loss_result = {'loss': []}\n",
    "        global_init(data_tpts, n_basis, order)\n",
    "        data_y_f = skfda.FDataGrid(\n",
    "            data_matrix=data_y,\n",
    "            grid_points=data_tpts)\n",
    "        basis = BSplineBasis(\n",
    "            n_basis=n_basis,\n",
    "            order=order)\n",
    "        basis_y = data_y_f.to_basis(basis)\n",
    "        \n",
    "        indices = np.arange(data_x.shape[0])\n",
    "        dtrain_c = pd.DataFrame(basis_y.coefficients)\n",
    "        dtrain_y = data_y\n",
    "        X_train = data_x\n",
    "        self.columns=list(X_train.columns)\n",
    "        model_list = []\n",
    "        dtrain_list = []\n",
    "        for i in range(n_basis):\n",
    "            dtrain = xgb.DMatrix(X_train, label=dtrain_c[i], feature_names=list(X_train.columns))\n",
    "            dtrain_list.append(dtrain)\n",
    "            model = xgb.Booster(model_params, [dtrain_list[i]])\n",
    "            model_list.append(model)\n",
    "            \n",
    "        for _ in range(num_rounds):\n",
    "            pred_total = pd.DataFrame()\n",
    "            for i in range(n_basis):\n",
    "                model = model_list[i]\n",
    "                pred = model.predict(dtrain_list[i])\n",
    "                pred_total[i] = pred\n",
    "            g, h = hit_grads(pred_total, dtrain_y, dtrain_c, loss_type=loss_type)\n",
    "            for i in range(n_basis):\n",
    "                grad = g[:][i].to_numpy().flatten()\n",
    "                hess = h[:][i].to_numpy().flatten()\n",
    "                model = model_list[i]\n",
    "                model.boost(dtrain_list[i], grad, hess)\n",
    "                model_list[i] = model\n",
    "            self.model = model_list\n",
    "            self.dtrain_y = dtrain_y\n",
    "            return {'model':model_list, \n",
    "                    'loss_result': loss_result}\n",
    "\n",
    "    def evaluate(self, X, Y):\n",
    "        data_tpts = self.data_tpts\n",
    "        n_basis = self.n_basis\n",
    "        order = self.order\n",
    "        for i in range(n_basis):\n",
    "            dtrain = xgb.DMatrix(X)\n",
    "            dtrain_list.append(dtrain)\n",
    "        c_pred = np.array([model.predict(dtrain_list[i]) for i, model in enumerate(self.model)]).T\n",
    "        basis = BSplineBasis(\n",
    "            domain_range=(0.0, data_tpts[-1]),\n",
    "            n_basis=n_basis,\n",
    "            order=order)\n",
    "        pred_b = FDataBasis(basis, c_pred)\n",
    "        pred_y = pred_b.to_grid(data_tpts).data_matrix\n",
    "        pred_y = pred_y.reshape(-1,len((pred_y[0])))\n",
    "        pred_y_df = pd.DataFrame(pred_y,columns=Y.columns)\n",
    "        y_test_obs = Y\n",
    "        numerator = np.nansum((y_test_obs - pred_y_df)**2)\n",
    "        denominator = np.nansum((y_test_obs - np.nanmean(y_test_obs))**2)\n",
    "        R2_score = 1 - (numerator / denominator)\n",
    "        mise_score = np.nanmean(np.nansum((y_test_obs - pred_y_df)**2, axis=1))\n",
    "        return{'R2':R2_score, 'mise':mise_score}\n",
    "        \n",
    "    def predict(self, X):\n",
    "        X_DM = xgb.DMatrix(X, feature_names=self.columns)\n",
    "        data_tpts = self.data_tpts\n",
    "        n_basis = self.n_basis\n",
    "        order = self.order\n",
    "        c_pred = np.array([model.predict(X_DM) for i, model in enumerate(self.model)]).T\n",
    "        basis = BSplineBasis(\n",
    "            domain_range = (0.0, data_tpts[-1]),\n",
    "            n_basis = n_basis,\n",
    "            order = order)\n",
    "        pred_b = FDataBasis(basis, c_pred)\n",
    "        pred_y = pred_b.to_grid(data_tpts).data_matrix\n",
    "\n",
    "        pred_y = pred_y.reshape(-1,len((pred_y[0])))\n",
    "        pred_y_df = pd.DataFrame(pred_y,columns=self.dtrain_y.columns)\n",
    "        return pred_y_df.values\n",
    "        \n",
    "    def predict_m(self, X):\n",
    "        X_DM = xgb.DMatrix(X, feature_names=self.columns)\n",
    "        data_tpts = self.data_tpts\n",
    "        n_basis = self.n_basis\n",
    "        order = self.order\n",
    "        c_pred = np.array([model.predict(X_DM) for i, model in enumerate(self.model)]).T\n",
    "        basis = BSplineBasis(\n",
    "            domain_range = (0.0, data_tpts[-1]),\n",
    "            n_basis = n_basis,\n",
    "            order = order)\n",
    "        pred_b = FDataBasis(basis, c_pred)\n",
    "        pred_y = pred_b.to_grid(data_tpts).data_matrix\n",
    "        pred_y = pred_y.reshape(-1,len((pred_y[0])))\n",
    "        return np.mean(pred_y,axis=1)\n"
   ]
  },
  {
   "cell_type": "code",
   "execution_count": 41,
   "id": "87e504ea-19ab-4d5a-b67d-eea39163dd77",
   "metadata": {},
   "outputs": [],
   "source": [
    "MBR_XGB = MBR_XGB(data_tpts=data_tpts,n_basis=5,order=4)"
   ]
  },
  {
   "cell_type": "code",
   "execution_count": 42,
   "id": "746fa908-eed1-4a28-a1ed-ec2ee69e90ab",
   "metadata": {},
   "outputs": [],
   "source": [
    "model_params = {'eta': 0.15,\n",
    "        'max_depth':6,\n",
    "        \"min_child_weight\":6,\n",
    "        'objective': 'reg:squarederror'}\n",
    "out_put = MBR_XGB.fit(data_x = data_x, data_y = data_y, model_params = model_params,\n",
    "            num_rounds=200, loss_type=1, silent=False)\n",
    "mbr_xgb_model = out_put['model']"
   ]
  },
  {
   "cell_type": "code",
   "execution_count": null,
   "id": "a9b79549-027d-4ea5-9f4d-40480a1ccd6d",
   "metadata": {},
   "outputs": [],
   "source": [
    "MBR_XGB.predict_m(data_x.iloc[0:3, :])"
   ]
  },
  {
   "cell_type": "code",
   "execution_count": null,
   "id": "ee5853b1-abbc-469e-a0ae-d0be861782c5",
   "metadata": {},
   "outputs": [],
   "source": [
    "import shap\n",
    "shap.initjs()\n",
    "explainer = shap.KernelExplainer(model=MBR_XGB.predict_m, data=data_x, link=\"identity\")"
   ]
  },
  {
   "cell_type": "code",
   "execution_count": null,
   "id": "39f18f07-9c5b-4431-8142-5c5047167535",
   "metadata": {},
   "outputs": [],
   "source": [
    "import shap\n",
    "import matplotlib.pyplot as plt\n",
    "fig, axs = plt.subplots(figsize=(10, 8), dpi=300)\n",
    "shap_s = shap.summary_plot(shap_values=shap_values, features = data_x, show=False)\n",
    "axs.tick_params(axis='x', labelsize=18)\n",
    "axs.tick_params(axis='y', labelsize=18)\n",
    "axs.set_xlabel('SHAP value (impact on ethylene selectivity mean)', fontsize=20)\n",
    "cbar = plt.gcf().axes[-1]\n",
    "cbar.tick_params(labelsize=16)\n",
    "cbar.set_ylabel('Feature Value', fontsize=18)\n",
    "plt.savefig('fig/shap_s.png',bbox_inches='tight')"
   ]
  },
  {
   "cell_type": "code",
   "execution_count": null,
   "id": "1bae68bc-ada8-4767-9250-2de1fabcd644",
   "metadata": {},
   "outputs": [],
   "source": [
    "fig, axs = plt.subplots(figsize=(10, 8), dpi=300)\n",
    "shap.summary_plot(shap_values=shap_values, features = data_x, plot_type=\"bar\", show=False)\n",
    "axs.tick_params(axis='x', labelsize=18)\n",
    "axs.tick_params(axis='y', labelsize=18)\n",
    "axs.set_xlabel('Importance of Features', fontsize=20)\n",
    "desired_ticks = [0.00, 0.005, 0.01, 0.015, 0.02]\n",
    "axs.set_xticks(desired_ticks)\n",
    "axs.set_xticklabels(['0.00', '0.005', '0.01', '0.015', '0.02'])\n",
    "plt.savefig('fig/shap_b.png',bbox_inches='tight')"
   ]
  }
 ],
 "metadata": {
  "kernelspec": {
   "display_name": "Python 3 (ipykernel)",
   "language": "python",
   "name": "python3"
  },
  "language_info": {
   "codemirror_mode": {
    "name": "ipython",
    "version": 3
   },
   "file_extension": ".py",
   "mimetype": "text/x-python",
   "name": "python",
   "nbconvert_exporter": "python",
   "pygments_lexer": "ipython3",
   "version": "3.10.10"
  }
 },
 "nbformat": 4,
 "nbformat_minor": 5
}
