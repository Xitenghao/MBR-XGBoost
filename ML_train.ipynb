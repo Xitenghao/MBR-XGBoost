{
 "cells": [
  {
   "cell_type": "code",
   "execution_count": 4,
   "id": "4fe4663e-320b-40a7-bfd2-fe0b6d9e0b8a",
   "metadata": {
    "tags": []
   },
   "outputs": [],
   "source": [
    "import pandas as pd\n",
    "from Functions import *"
   ]
  },
  {
   "cell_type": "code",
   "execution_count": 5,
   "id": "cbdfd0d5-d285-4e84-b9db-3d325fdfc4f5",
   "metadata": {},
   "outputs": [
    {
     "name": "stdout",
     "output_type": "stream",
     "text": [
      "Data processing completed!\n"
     ]
    }
   ],
   "source": [
    "data_tpts, data_x, data_y = data_deal()\n",
    "MISE, index_z = compared(n = 10, seed_z = 1, data_x = data_x, data_y = data_y, data_tpts = data_tpts, \n",
    "                   n_basis = 4, order = 3, test_size = 0.2, plot_flag=True,\n",
    "                   method_list = ['lin_b', 'knn_b', 'gbdt_b', 'xgb_b', 'MBR_XGB'])"
   ]
  },
  {
   "cell_type": "code",
   "execution_count": 10,
   "id": "a813f888-e5f7-4930-8c26-68f271c88c5a",
   "metadata": {},
   "outputs": [
    {
     "name": "stdout",
     "output_type": "stream",
     "text": [
      "  method_name  R2_mean  R2_var  Mise_mean  Mise_var  Rmse_mean  Rmse_var\n",
      "0       lin_b    0.860   0.134      0.499     0.520      0.122     0.068\n",
      "1       knn_b    0.890   0.106      0.401     0.437      0.110     0.067\n",
      "2      gbdt_b    0.901   0.104      0.371     0.418      0.097     0.071\n",
      "3       xgb_b    0.897   0.106      0.379     0.413      0.100     0.069\n",
      "4     MBR_XGB    0.905   0.106      0.357     0.418      0.095     0.070\n"
     ]
    }
   ],
   "source": [
    "df = pd.DataFrame(index_z)\n",
    "# 保留第一列两位小数\n",
    "df['R2_mean'] = df['R2_mean'].round(3)\n",
    "df['R2_var'] = np.sqrt(df['R2_var']).round(3)\n",
    "df['Mise_mean'] = df['Mise_mean'].round(3)\n",
    "df['Mise_var'] = np.sqrt(df['Mise_var']).round(3)\n",
    "df['Rmse_mean'] = df['Rmse_mean'].round(3)\n",
    "df['Rmse_var'] = np.sqrt(df['Rmse_var']).round(3)\n",
    "print(df)\n",
    "# df.to_csv('results.csv', index=False)"
   ]
  },
  {
   "cell_type": "code",
   "execution_count": null,
   "id": "0af9029b-1eb3-4e62-b0d2-9fa04db45da2",
   "metadata": {},
   "outputs": [],
   "source": []
  }
 ],
 "metadata": {
  "kernelspec": {
   "display_name": "Python 3 (ipykernel)",
   "language": "python",
   "name": "python3"
  },
  "language_info": {
   "codemirror_mode": {
    "name": "ipython",
    "version": 3
   },
   "file_extension": ".py",
   "mimetype": "text/x-python",
   "name": "python",
   "nbconvert_exporter": "python",
   "pygments_lexer": "ipython3",
   "version": "3.10.10"
  }
 },
 "nbformat": 4,
 "nbformat_minor": 5
}
