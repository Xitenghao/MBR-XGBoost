{
 "cells": [
  {
   "cell_type": "code",
   "execution_count": 1,
   "id": "4fe4663e-320b-40a7-bfd2-fe0b6d9e0b8a",
   "metadata": {
    "tags": []
   },
   "outputs": [],
   "source": [
    "import pandas as pd\n",
    "from Functions import *\n",
    "import scipy.stats as stats"
   ]
  },
  {
   "cell_type": "code",
   "execution_count": 2,
   "id": "cbdfd0d5-d285-4e84-b9db-3d325fdfc4f5",
   "metadata": {},
   "outputs": [
    {
     "name": "stdout",
     "output_type": "stream",
     "text": [
      "Data processing completed!\n"
     ]
    }
   ],
   "source": [
    "data_tpts, data_x, data_y = data_deal()\n",
    "MISE, index_z = compared(n = 10, seed_z = 1, data_x = data_x, data_y = data_y, data_tpts = data_tpts, \n",
    "                   n_basis = 4, order = 3, test_size = 0.2, plot_flag=False,\n",
    "                   method_list = ['lin_b', 'knn_b', 'gbdt_b', 'xgb_b', 'MBR_XGB'])"
   ]
  },
  {
   "cell_type": "code",
   "execution_count": 3,
   "id": "a813f888-e5f7-4930-8c26-68f271c88c5a",
   "metadata": {},
   "outputs": [
    {
     "name": "stdout",
     "output_type": "stream",
     "text": [
      "  method_name  R2_mean  R2_var  Mise_mean  Mise_var  Rmse_mean  Rmse_var\n",
      "0       lin_b    0.860   0.134      0.499     0.520      0.122     0.068\n",
      "1       knn_b    0.890   0.106      0.401     0.437      0.110     0.067\n",
      "2      gbdt_b    0.898   0.105      0.378     0.420      0.098     0.072\n",
      "3       xgb_b    0.897   0.106      0.379     0.413      0.100     0.069\n",
      "4     MBR_XGB    0.905   0.106      0.357     0.418      0.095     0.070\n"
     ]
    }
   ],
   "source": [
    "df = pd.DataFrame(index_z)\n",
    "# 保留第一列两位小数\n",
    "df['R2_var'] = np.sqrt(df['R2_var'])\n",
    "df['Mise_var'] = np.sqrt(df['Mise_var'])\n",
    "df['Rmse_var'] = np.sqrt(df['Rmse_var'])\n",
    "df=df.round(3)\n",
    "print(df)\n",
    "# df.to_csv('results.csv', index=False)"
   ]
  },
  {
   "cell_type": "code",
   "execution_count": 4,
   "id": "fb2cf49d-171f-4c4a-9127-cbdcbb9a18ad",
   "metadata": {},
   "outputs": [
    {
     "name": "stdout",
     "output_type": "stream",
     "text": [
      "        LIN       KNN      GBDT       XGB   MBR-XGB\n",
      "0  0.093960  0.027854  0.001266  0.003281  0.004596\n",
      "1  0.640866  0.314460  0.545817  0.621829  0.473267\n",
      "2  0.014036  0.016796  0.013306  0.012876  0.016815\n",
      "3  0.028136  0.044643  0.007338  0.010998  0.011699\n",
      "4  0.072858  0.027430  0.029030  0.035101  0.021240\n",
      "5  0.967830  1.057530  0.873218  0.829704  0.772944\n",
      "6  1.283685  0.974347  0.963456  0.983860  0.980472\n",
      "7  0.082074  0.165830  0.188256  0.170646  0.171675\n",
      "8  1.424985  1.120230  1.078533  1.027804  1.098158\n",
      "9  0.380851  0.264990  0.082376  0.090538  0.019540\n"
     ]
    }
   ],
   "source": [
    "MISE = pd.DataFrame(MISE)\n",
    "print(MISE)"
   ]
  },
  {
   "cell_type": "markdown",
   "id": "a6b36ffd-2ab4-4935-89bd-15099726339e",
   "metadata": {},
   "source": [
    "## Friedman test and Nemenyi test"
   ]
  },
  {
   "cell_type": "code",
   "execution_count": 5,
   "id": "d62fd64d-aae2-4f61-b5aa-9be6133e6ad0",
   "metadata": {},
   "outputs": [
    {
     "name": "stdout",
     "output_type": "stream",
     "text": [
      "      LIN  KNN  GBDT  XGB  MBR-XGB\n",
      "1     5.0  4.0   1.0  2.0      3.0\n",
      "2     5.0  1.0   3.0  4.0      2.0\n",
      "3     3.0  4.0   2.0  1.0      5.0\n",
      "4     4.0  5.0   1.0  2.0      3.0\n",
      "5     5.0  2.0   3.0  4.0      1.0\n",
      "6     4.0  5.0   3.0  2.0      1.0\n",
      "7     5.0  2.0   1.0  4.0      3.0\n",
      "8     1.0  2.0   5.0  3.0      4.0\n",
      "9     5.0  4.0   2.0  1.0      3.0\n",
      "10    5.0  4.0   2.0  3.0      1.0\n",
      "Mean  4.2  3.3   2.3  2.6      2.6\n",
      "Chi-squared: 9.360000000000014, P-value: 0.052704798878527435\n"
     ]
    }
   ],
   "source": [
    "data = MISE\n",
    "test_data = data.values.T\n",
    "# 计算秩\n",
    "ranks = np.empty(data.values.shape)\n",
    "for i in range(data.values.shape[0]):\n",
    "    ranks[i, :] = stats.rankdata(data.values[i, :], method='min')\n",
    "# 将秩转换为DataFrame\n",
    "ranks_df = pd.DataFrame(ranks, columns=data.columns, index=range(1, len(ranks) + 1))\n",
    "ranks_df.loc['Mean'] = ranks_df.mean(axis=0)\n",
    "print(ranks_df)\n",
    "\n",
    "# 执行Friedman检验\n",
    "chi2, p_value = stats.friedmanchisquare(*test_data)\n",
    "print(f\"Chi-squared: {chi2}, P-value: {p_value}\")"
   ]
  },
  {
   "cell_type": "code",
   "execution_count": 6,
   "id": "8191b831-90f3-4467-9948-92cabe43fc74",
   "metadata": {},
   "outputs": [
    {
     "name": "stdout",
     "output_type": "stream",
     "text": [
      "            LIN     KNN    GBDT     XGB  MBR-XGB\n",
      "LIN      1.0000  0.7080  0.0559  0.1571   0.1571\n",
      "KNN      0.7080  1.0000  0.6184  0.8600   0.8600\n",
      "GBDT     0.0559  0.6184  1.0000  0.9932   0.9932\n",
      "XGB      0.1571  0.8600  0.9932  1.0000   1.0000\n",
      "MBR-XGB  0.1571  0.8600  0.9932  1.0000   1.0000\n"
     ]
    }
   ],
   "source": [
    "import scikit_posthocs as sp\n",
    "result = sp.posthoc_nemenyi_friedman(data)\n",
    "print(result.round(4))"
   ]
  },
  {
   "cell_type": "code",
   "execution_count": null,
   "id": "0ca2a1c5-e817-4b52-bf00-a7e2ab4fff26",
   "metadata": {},
   "outputs": [],
   "source": []
  }
 ],
 "metadata": {
  "kernelspec": {
   "display_name": "Python 3 (ipykernel)",
   "language": "python",
   "name": "python3"
  },
  "language_info": {
   "codemirror_mode": {
    "name": "ipython",
    "version": 3
   },
   "file_extension": ".py",
   "mimetype": "text/x-python",
   "name": "python",
   "nbconvert_exporter": "python",
   "pygments_lexer": "ipython3",
   "version": "3.10.10"
  }
 },
 "nbformat": 4,
 "nbformat_minor": 5
}
