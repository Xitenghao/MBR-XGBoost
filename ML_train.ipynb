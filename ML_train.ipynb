{
 "cells": [
  {
   "cell_type": "code",
   "execution_count": 3,
   "id": "4fe4663e-320b-40a7-bfd2-fe0b6d9e0b8a",
   "metadata": {
    "tags": []
   },
   "outputs": [],
   "source": [
    "import pandas as pd\n",
    "from functions import *"
   ]
  },
  {
   "cell_type": "code",
   "execution_count": null,
   "id": "cbdfd0d5-d285-4e84-b9db-3d325fdfc4f5",
   "metadata": {},
   "outputs": [],
   "source": [
    "data_tpts, data_x, data_y = data_deal('Sethylene%')\n",
    "data_y = data_y / 100\n",
    "index_z_2 = compared(n = 10, seed_z = 123, data_x = data_x, data_y = data_y, data_tpts = data_tpts, \n",
    "                   n_basis = 5, order = 4, test_size = 0.2, plot_flag=True,\n",
    "                   method_list = ['lin_b','knn_b','gbdt_b','rsf_b','xgb_b','MBR_XGB'])\n",
    "df = pd.DataFrame(index_z_2)\n",
    "df.to_csv('...', index=False)"
   ]
  },
  {
   "cell_type": "code",
   "execution_count": null,
   "id": "6004bb60-683b-41d9-b5a1-0cd50f89625b",
   "metadata": {
    "scrolled": true,
    "tags": []
   },
   "outputs": [],
   "source": [
    "data_tpts, data_x, data_y = data_deal_1('Spropylene%')\n",
    "index_z_3 = compared(n = 10, seed_z = 123, data_x = data_x, data_y = data_y, data_tpts = data_tpts, \n",
    "                   n_basis = 5, order = 4, test_size = 0.2, plot_flag=True,\n",
    "                   method_list = ['lin_b','knn_b','gbdt_b','rsf_b','xgb_b','MBR_XGB'])\n",
    "df = pd.DataFrame(index_z_3)\n",
    "df.to_csv('...', index=False)"
   ]
  }
 ],
 "metadata": {
  "kernelspec": {
   "display_name": "Python 3 (ipykernel)",
   "language": "python",
   "name": "python3"
  },
  "language_info": {
   "codemirror_mode": {
    "name": "ipython",
    "version": 3
   },
   "file_extension": ".py",
   "mimetype": "text/x-python",
   "name": "python",
   "nbconvert_exporter": "python",
   "pygments_lexer": "ipython3",
   "version": "3.10.10"
  }
 },
 "nbformat": 4,
 "nbformat_minor": 5
}
