{
 "cells": [
  {
   "cell_type": "code",
   "execution_count": 15,
   "id": "f4262d03-4d7d-4549-bf3a-8979628a6b02",
   "metadata": {},
   "outputs": [
    {
     "name": "stdout",
     "output_type": "stream",
     "text": [
      "      LIN  KNN  GBDT  XGB  MBR-XGB\n",
      "1     5.0  4.0   3.0  1.0      2.0\n",
      "2     5.0  1.0   3.0  2.0      4.0\n",
      "3     2.0  5.0   1.0  3.0      4.0\n",
      "4     5.0  4.0   3.0  1.0      2.0\n",
      "5     5.0  3.0   1.0  4.0      2.0\n",
      "6     4.0  5.0   2.0  3.0      1.0\n",
      "7     5.0  1.0   2.0  4.0      3.0\n",
      "8     2.0  4.0   5.0  3.0      1.0\n",
      "9     5.0  4.0   2.0  1.0      3.0\n",
      "10    5.0  4.0   3.0  2.0      1.0\n",
      "Mean  4.3  3.5   2.5  2.4      2.3\n",
      "Chi-squared: 12.159999999999997, P-value: 0.01620029070268899\n"
     ]
    }
   ],
   "source": [
    "import scipy.stats as stats\n",
    "import pandas as pd\n",
    "import numpy as np\n",
    "data = pd.read_csv('MISE_all.csv').iloc[:,0:5]\n",
    "test_data = data.values.T\n",
    "# 计算秩\n",
    "ranks = np.empty(data.values.shape)\n",
    "for i in range(data.values.shape[0]):\n",
    "    ranks[i, :] = stats.rankdata(data.values[i, :], method='min')\n",
    "# 将秩转换为DataFrame\n",
    "ranks_df = pd.DataFrame(ranks, columns=data.columns, index=range(1, len(ranks) + 1))\n",
    "ranks_df.loc['Mean'] = ranks_df.mean(axis=0)\n",
    "print(ranks_df)\n",
    "\n",
    "# 执行Friedman检验\n",
    "chi2, p_value = stats.friedmanchisquare(*test_data)\n",
    "print(f\"Chi-squared: {chi2}, P-value: {p_value}\")"
   ]
  },
  {
   "cell_type": "code",
   "execution_count": 2,
   "id": "fcd7195c-23d3-4570-a67f-6ccb0e68cebe",
   "metadata": {},
   "outputs": [
    {
     "name": "stdout",
     "output_type": "stream",
     "text": [
      "              LIN       KNN      GBDT       XGB   MBR-XGB\n",
      "LIN      1.000000  0.789935  0.080831  0.055868  0.037696\n",
      "KNN      0.789935  1.000000  0.618449  0.526101  0.435708\n",
      "GBDT     0.080831  0.618449  1.000000  0.999910  0.998603\n",
      "XGB      0.055868  0.526101  0.999910  1.000000  0.999910\n",
      "MBR-XGB  0.037696  0.435708  0.998603  0.999910  1.000000\n"
     ]
    }
   ],
   "source": [
    "import scikit_posthocs as sp\n",
    "result = sp.posthoc_nemenyi_friedman(data)\n",
    "print(result)"
   ]
  },
  {
   "cell_type": "code",
   "execution_count": null,
   "id": "cb3135f5-e8c0-47bd-bb57-e70bb9ddf287",
   "metadata": {},
   "outputs": [],
   "source": []
  },
  {
   "cell_type": "code",
   "execution_count": null,
   "id": "7ed8a9a8-b819-43a7-a831-700ebff14b5d",
   "metadata": {},
   "outputs": [],
   "source": []
  }
 ],
 "metadata": {
  "kernelspec": {
   "display_name": "Python 3 (ipykernel)",
   "language": "python",
   "name": "python3"
  },
  "language_info": {
   "codemirror_mode": {
    "name": "ipython",
    "version": 3
   },
   "file_extension": ".py",
   "mimetype": "text/x-python",
   "name": "python",
   "nbconvert_exporter": "python",
   "pygments_lexer": "ipython3",
   "version": "3.10.10"
  }
 },
 "nbformat": 4,
 "nbformat_minor": 5
}
