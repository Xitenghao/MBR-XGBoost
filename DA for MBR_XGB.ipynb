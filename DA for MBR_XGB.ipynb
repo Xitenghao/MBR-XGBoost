{
 "cells": [
  {
   "cell_type": "code",
   "execution_count": 3,
   "id": "6650f8e5-9c12-45a9-b88e-6f07cd3f9ef9",
   "metadata": {},
   "outputs": [],
   "source": [
    "import numpy as np \n",
    "import random\n",
    "from functions import *"
   ]
  },
  {
   "cell_type": "code",
   "execution_count": null,
   "id": "c69aeb76-1d38-4364-b758-2f6b1400671d",
   "metadata": {},
   "outputs": [],
   "source": [
    "data_tpts, data_x, data_y = data_deal('Sethylene%')"
   ]
  },
  {
   "cell_type": "code",
   "execution_count": null,
   "id": "49c6e6a4-e784-463e-84b7-e460e76fd68c",
   "metadata": {},
   "outputs": [],
   "source": [
    "# -*- coding: utf-8 -*-\n",
    "import numpy as np\n",
    "import random\n",
    "from functions_new import *\n",
    "\n",
    "def MBR_xgboost_func(x):\n",
    "    n_basis, order, eta, max_depth, min_child_weight = x\n",
    "    n_basis = int(n_basis)\n",
    "    order = int(order)\n",
    "    max_depth = int(max_depth)\n",
    "    min_child_weight = int(min_child_weight)\n",
    "    \n",
    "    if n_basis <= order:\n",
    "        return 1000000\n",
    "    model_params = {'eta': eta,\n",
    "                    'max_depth':max_depth,\n",
    "                    \"min_child_weight\":min_child_weight,\n",
    "                    'objective': 'reg:squarederror'}\n",
    "    n = 5\n",
    "    random.seed(1)\n",
    "    seed = list(random.sample(list(range(1, 1001)), n))\n",
    "    R2_mx = []\n",
    "    mise_mx = []\n",
    "    y_pred_to_mx = []\n",
    "    test_idx_to_mx = []\n",
    "    for i in range(n):\n",
    "        out_put_mx = FBboost(data_x, data_y, model_params, \n",
    "                            data_tpts, n_basis=n_basis, order=order, \n",
    "                            num_rounds=100,loss_type=1,test_size=0.2,\n",
    "                            seed=seed,ite=i,silent=True)\n",
    "        R2_mx.append(out_put_mx['R2_score'])\n",
    "        mise_mx.append(out_put_mx['mise_score'])\n",
    "        y_pred_to_mx.append(out_put_mx['y_pred'])\n",
    "        test_idx_to_mx.append(out_put_mx['test_idx'])\n",
    "    print(f'{x}')\n",
    "    print(f'The mise is {np.mean(mise_mx)}')\n",
    "    print(f'The R2 is {np.mean(R2_mx)}')\n",
    "    print('\\n')\n",
    "    \n",
    "    return np.mean(mise_mx)"
   ]
  },
  {
   "cell_type": "markdown",
   "id": "57085c06-f185-4456-b80e-fd46978cda59",
   "metadata": {},
   "source": [
    "# dragonfly"
   ]
  },
  {
   "cell_type": "code",
   "execution_count": null,
   "id": "9a198af0-8dec-48d2-95f3-ad646060182c",
   "metadata": {},
   "outputs": [],
   "source": [
    "from dragonfly import load_config_file, minimise_function\n",
    "from argparse import Namespace\n",
    "\n",
    "\"\"\" Main function. \"\"\"\n",
    "config = load_config_file(\"dragonfly_config.json\")\n",
    "max_capital = 60\n",
    "options = Namespace(\n",
    "    build_new_model_every=5, # update the model every 5 iterations\n",
    "    report_results_every=4, # report progress every 4 iterations\n",
    "    report_model_on_each_build=True, # report model when you build it.\n",
    "    )\n",
    "opt_method = 'bo'\n",
    "opt_val, opt_pt, history = minimise_function(MBR_xgboost_func,\n",
    "                                             config.domain,\n",
    "                                             max_capital,\n",
    "                                             opt_method=opt_method,\n",
    "                                             config=config,\n",
    "                                             options=options\n",
    "                                            )\n",
    "print('Optimum Value in %d evals: %0.4f'%(max_capital, opt_val))\n",
    "print('Optimum Point: %s'%(opt_pt))"
   ]
  }
 ],
 "metadata": {
  "kernelspec": {
   "display_name": "Python 3 (ipykernel)",
   "language": "python",
   "name": "python3"
  },
  "language_info": {
   "codemirror_mode": {
    "name": "ipython",
    "version": 3
   },
   "file_extension": ".py",
   "mimetype": "text/x-python",
   "name": "python",
   "nbconvert_exporter": "python",
   "pygments_lexer": "ipython3",
   "version": "3.10.10"
  }
 },
 "nbformat": 4,
 "nbformat_minor": 5
}
