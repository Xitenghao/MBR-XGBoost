{
 "cells": [
  {
   "cell_type": "code",
   "execution_count": 10,
   "id": "6650f8e5-9c12-45a9-b88e-6f07cd3f9ef9",
   "metadata": {},
   "outputs": [],
   "source": [
    "import numpy as np \n",
    "import random\n",
    "from Functions import *"
   ]
  },
  {
   "cell_type": "code",
   "execution_count": 11,
   "id": "c69aeb76-1d38-4364-b758-2f6b1400671d",
   "metadata": {},
   "outputs": [
    {
     "name": "stdout",
     "output_type": "stream",
     "text": [
      "Data processing completed!\n"
     ]
    }
   ],
   "source": [
    "data_tpts, data_x, data_y = data_deal()"
   ]
  },
  {
   "cell_type": "markdown",
   "id": "4d472aba-b666-4e67-8f9e-6b9ba8555b9c",
   "metadata": {},
   "source": [
    "## Hyperparameter optimization of MBR_XGB"
   ]
  },
  {
   "cell_type": "code",
   "execution_count": 4,
   "id": "49c6e6a4-e784-463e-84b7-e460e76fd68c",
   "metadata": {},
   "outputs": [],
   "source": [
    "# -*- coding: utf-8 -*-\n",
    "def MBR_xgboost_func(x):\n",
    "    n_basis, order, eta, max_depth = x\n",
    "    n_basis = int(n_basis)\n",
    "    order = int(order)\n",
    "    max_depth = int(max_depth)\n",
    "    # min_child_weight = int(min_child_weight)\n",
    "    \n",
    "    if n_basis <= order:\n",
    "        return 1000000\n",
    "    model_params = {'eta': eta,\n",
    "                    'max_depth':max_depth,\n",
    "                    # \"min_child_weight\":min_child_weight,\n",
    "                    'objective': 'reg:squarederror'}\n",
    "    n = 5\n",
    "    random.seed(1)\n",
    "    seed = list(random.sample(list(range(1, 1001)), n))\n",
    "    R2_mx = []\n",
    "    mise_mx = []\n",
    "    y_pred_to_mx = []\n",
    "    test_idx_to_mx = []\n",
    "    for i in range(n):\n",
    "        out_put_mx = MBR_XGB(data_x, data_y, model_params, \n",
    "                            data_tpts, n_basis=n_basis, order=order, \n",
    "                            num_rounds=100,loss_type=1,test_size=0.2,\n",
    "                            seed=seed,ite=i,silent=True)\n",
    "        R2_mx.append(out_put_mx['R2_score'])\n",
    "        mise_mx.append(out_put_mx['mise_score'])\n",
    "        y_pred_to_mx.append(out_put_mx['y_pred'])\n",
    "        test_idx_to_mx.append(out_put_mx['test_idx'])\n",
    "    print(f'{x}')\n",
    "    print(f'The mise is {np.mean(mise_mx)}')\n",
    "    print(f'The R2 is {np.mean(R2_mx)}')\n",
    "    print('\\n')\n",
    "    return np.mean(mise_mx)"
   ]
  },
  {
   "cell_type": "code",
   "execution_count": null,
   "id": "430d6b75-5546-4d00-b478-5133a78951f4",
   "metadata": {},
   "outputs": [],
   "source": [
    "from dragonfly import load_config_file, minimise_function\n",
    "from argparse import Namespace\n",
    "\n",
    "\"\"\" Main function. \"\"\"\n",
    "config = load_config_file(\"da_config_mbr.json\")\n",
    "max_capital = 40\n",
    "\n",
    "opt_method = 'bo'\n",
    "opt_val, opt_pt, history = minimise_function(MBR_xgboost_func,\n",
    "                                             config.domain,\n",
    "                                             max_capital,\n",
    "                                             capital_type=\"num_evals\",\n",
    "                                             opt_method=opt_method,\n",
    "                                             config=config\n",
    "                                            )\n",
    "print('Optimum Value in %d evals: %0.4f'%(max_capital, opt_val))\n",
    "print('Optimum Point: %s'%(opt_pt))"
   ]
  },
  {
   "cell_type": "markdown",
   "id": "8dfd58be-4330-4f9d-974c-2e3d78340370",
   "metadata": {},
   "source": [
    "## Hyperparameter optimization of XGB"
   ]
  },
  {
   "cell_type": "code",
   "execution_count": 21,
   "id": "27453de2-46f5-4d98-ac47-7bf4cf7aed53",
   "metadata": {},
   "outputs": [],
   "source": [
    "# -*- coding: utf-8 -*-\n",
    "def xgb_func(x):\n",
    "    n_basis, order, learning_rate, max_depth = x\n",
    "    n_basis = int(n_basis)\n",
    "    order = int(order)\n",
    "    max_depth = int(max_depth)\n",
    "    \n",
    "    if n_basis <= order:\n",
    "        return 1000000\n",
    "    model_params = {'learning_rate': learning_rate,\n",
    "                    'max_depth':max_depth}\n",
    "    n = 5\n",
    "    random.seed(1)\n",
    "    seed = list(random.sample(list(range(1, 1001)), n))\n",
    "    R2 = []\n",
    "    mise = []\n",
    "    y_pred_to = []\n",
    "    test_idx_to = []\n",
    "    for i in range(n):\n",
    "        out_put = XGB_B(data_x,data_y,data_tpts,\n",
    "                            n_basis=n_basis,order=order,\n",
    "                            test_size=0.2,seed=seed,ite=i,\n",
    "                            params=model_params)\n",
    "        R2.append(out_put['R2_score'])\n",
    "        mise.append(out_put['mise_score'])\n",
    "        y_pred_to.append(out_put['y_pred'])\n",
    "        test_idx_to.append(out_put['test_idx'])\n",
    "    print(f'{x}')\n",
    "    print(f'The mise is {np.mean(mise)}')\n",
    "    print(f'The R2 is {np.mean(R2)}')\n",
    "    print('\\n')\n",
    "    return np.mean(mise)"
   ]
  },
  {
   "cell_type": "code",
   "execution_count": null,
   "id": "c397434e-63dc-4fab-bcd2-46fc208e870a",
   "metadata": {},
   "outputs": [],
   "source": [
    "from dragonfly import load_config_file, minimise_function\n",
    "from argparse import Namespace\n",
    "\n",
    "\"\"\" Main function. \"\"\"\n",
    "config = load_config_file(\"da_config_xgb.json\")\n",
    "max_capital = 40\n",
    "\n",
    "opt_method = 'bo'\n",
    "opt_val, opt_pt, history = minimise_function(MBR_xgboost_func,\n",
    "                                             config.domain,\n",
    "                                             max_capital,\n",
    "                                             capital_type=\"num_evals\",\n",
    "                                             opt_method=opt_method,\n",
    "                                             config=config\n",
    "                                            )\n",
    "print('Optimum Value in %d evals: %0.4f'%(max_capital, opt_val))\n",
    "print('Optimum Point: %s'%(opt_pt))"
   ]
  },
  {
   "cell_type": "markdown",
   "id": "5ee09fd3-c6a4-4e22-9a82-27e9b78e9654",
   "metadata": {},
   "source": [
    "## Hyperparameter optimization of GBDT"
   ]
  },
  {
   "cell_type": "code",
   "execution_count": 18,
   "id": "b1e505d2-d0d3-48ae-bb1c-a56337f6c1fd",
   "metadata": {},
   "outputs": [],
   "source": [
    "# -*- coding: utf-8 -*-\n",
    "def gbdt_func(x):\n",
    "    n_basis, order, learning_rate, max_depth = x\n",
    "    n_basis = int(n_basis)\n",
    "    order = int(order)\n",
    "    max_depth = int(max_depth)\n",
    "    \n",
    "    if n_basis <= order:\n",
    "        return 1000000\n",
    "    model_params = {'learning_rate': learning_rate,\n",
    "                    'max_depth':max_depth}\n",
    "    n = 5\n",
    "    random.seed(1)\n",
    "    seed = list(random.sample(list(range(1, 1001)), n))\n",
    "    R2 = []\n",
    "    mise = []\n",
    "    y_pred_to = []\n",
    "    test_idx_to = []\n",
    "    for i in range(n):\n",
    "        out_put = GBDT_B(data_x,data_y,data_tpts,\n",
    "                            n_basis=n_basis,order=order,\n",
    "                            test_size=0.2,seed=seed,ite=i,\n",
    "                            params=model_params)\n",
    "        R2.append(out_put['R2_score'])\n",
    "        mise.append(out_put['mise_score'])\n",
    "        y_pred_to.append(out_put['y_pred'])\n",
    "        test_idx_to.append(out_put['test_idx'])\n",
    "    print(f'{x}')\n",
    "    print(f'The mise is {np.mean(mise)}')\n",
    "    print(f'The R2 is {np.mean(R2)}')\n",
    "    print('\\n')\n",
    "    return np.mean(mise)"
   ]
  },
  {
   "cell_type": "code",
   "execution_count": null,
   "id": "89feec12-9a1c-45ab-af98-de3f725fff07",
   "metadata": {},
   "outputs": [],
   "source": [
    "from dragonfly import load_config_file, minimise_function\n",
    "from argparse import Namespace\n",
    "\n",
    "\"\"\" Main function. \"\"\"\n",
    "config = load_config_file(\"da_config_gbdt.json\")\n",
    "max_capital = 40\n",
    "\n",
    "opt_method = 'bo'\n",
    "opt_val, opt_pt, history = minimise_function(MBR_xgboost_func,\n",
    "                                             config.domain,\n",
    "                                             max_capital,\n",
    "                                             capital_type=\"num_evals\",\n",
    "                                             opt_method=opt_method,\n",
    "                                             config=config\n",
    "                                            )\n",
    "print('Optimum Value in %d evals: %0.4f'%(max_capital, opt_val))\n",
    "print('Optimum Point: %s'%(opt_pt))"
   ]
  }
 ],
 "metadata": {
  "kernelspec": {
   "display_name": "Python 3 (ipykernel)",
   "language": "python",
   "name": "python3"
  },
  "language_info": {
   "codemirror_mode": {
    "name": "ipython",
    "version": 3
   },
   "file_extension": ".py",
   "mimetype": "text/x-python",
   "name": "python",
   "nbconvert_exporter": "python",
   "pygments_lexer": "ipython3",
   "version": "3.10.10"
  }
 },
 "nbformat": 4,
 "nbformat_minor": 5
}
